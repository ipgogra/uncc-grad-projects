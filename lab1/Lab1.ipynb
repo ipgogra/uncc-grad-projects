{
 "cells": [
  {
   "cell_type": "markdown",
   "metadata": {},
   "source": [
    "# Machine Learning Lab Assignment - 1"
   ]
  },
  {
   "cell_type": "markdown",
   "metadata": {},
   "source": [
    "### 1) Given a string, convert it to a list and a tuple"
   ]
  },
  {
   "cell_type": "code",
   "execution_count": 4,
   "metadata": {},
   "outputs": [
    {
     "name": "stdout",
     "output_type": "stream",
     "text": [
      "Enter a string: Balloon\n",
      "List: ['B', 'a', 'l', 'l', 'o', 'o', 'n']\n",
      "Tuple: ('B', 'a', 'l', 'l', 'o', 'o', 'n')\n"
     ]
    }
   ],
   "source": [
    "\n",
    "\n",
    "# Your input goes here\n",
    "## string input s\n",
    "s = input(\"Enter a string: \")\n",
    "\n",
    "## list and tup\n",
    "lst = []\n",
    "tup = ()\n",
    "\n",
    "## for every character in string s\n",
    "## divide into list and tuple\n",
    "for ch in s:\n",
    "    lst += [ch]\n",
    "for ch in s:\n",
    "    tup += (ch,)\n",
    "\n",
    "## print results\n",
    "print(\"List:\", lst)\n",
    "print(\"Tuple:\", tup)\n"
   ]
  },
  {
   "cell_type": "markdown",
   "metadata": {},
   "source": [
    "### 2) Give 'n' numbers as input and find their average"
   ]
  },
  {
   "cell_type": "code",
   "execution_count": 5,
   "metadata": {},
   "outputs": [
    {
     "name": "stdout",
     "output_type": "stream",
     "text": [
      "How many numbers do you want to insert? 3\n",
      "\n",
      "Enter a number: 11\n",
      "Enter a number: 98\n",
      "Enter a number: 45\n",
      "\n",
      "Average:\t 51.333333333333336\n"
     ]
    }
   ],
   "source": [
    "\n",
    "\n",
    "# Your input goes here\n",
    "## user promp for number input (n)\n",
    "n = int(input(\"How many numbers do you want to insert? \"))\n",
    "\n",
    "if n > 0:\n",
    "    print()\n",
    "    total = 0\n",
    "\n",
    "    # loop for however many numbers that are inputted by user\n",
    "    for i in range(n):\n",
    "        total += int(input(\"Enter a number: \"))\n",
    "\n",
    "    print()\n",
    "\n",
    "    # print resulting average\n",
    "    print(\"Average:\\t\",(total/n))\n",
    "\n"
   ]
  },
  {
   "cell_type": "markdown",
   "metadata": {},
   "source": [
    "### 3) Find your age when you input your date of birth"
   ]
  },
  {
   "cell_type": "code",
   "execution_count": 10,
   "metadata": {},
   "outputs": [
    {
     "name": "stdout",
     "output_type": "stream",
     "text": [
      "Enter the day: \n",
      "21\n",
      "Enter the month: \n",
      "7\n",
      "Enter the year: \n",
      "1998\n",
      "Your age is:  23 year(s) 2 month(s)  2 day(s)\n"
     ]
    }
   ],
   "source": [
    "import datetime\n",
    "\n",
    "# Your input goes here\n",
    "## user input for birth day info\n",
    "bday = int(input(\"Enter the day: \\n\"))\n",
    "bmonth = int(input(\"Enter the month: \\n\"))\n",
    "byear = int(input(\"Enter the year: \\n\"))\n",
    "\n",
    "\n",
    "## get current date\n",
    "cyear = datetime.date.today().year\n",
    "cmonth = datetime.date.today().month\n",
    "cday = datetime.date.today().day\n",
    "\n",
    "aday = abs(cday - bday)\n",
    "amonth = abs(cmonth - bmonth)\n",
    "ayear = cyear - byear\n",
    " \n",
    "print(\"Your age is: \", ayear, \"year(s)\", amonth, \"month(s) \", aday, \"day(s)\")\n"
   ]
  },
  {
   "cell_type": "markdown",
   "metadata": {},
   "source": [
    "### 4) Write a python program to find the maximum number and minimum number in an array of 'n' numbers using a function"
   ]
  },
  {
   "cell_type": "code",
   "execution_count": 6,
   "metadata": {},
   "outputs": [
    {
     "name": "stdout",
     "output_type": "stream",
     "text": [
      "How many numbers do you want to insert? 5\n",
      "\n",
      "Enter a number: 88\n",
      "Enter a number: 35\n",
      "Enter a number: 40\n",
      "Enter a number: 12\n",
      "Enter a number: 9\n",
      "\n",
      "Minimum number:  9\n",
      "Maximum number:  88\n"
     ]
    }
   ],
   "source": [
    "\n",
    "\n",
    "# Your input goes here\n",
    "## prompt user for number input n\n",
    "n = int(input(\"How many numbers do you want to insert? \"))\n",
    "\n",
    "if n > 0:\n",
    "    print()\n",
    "    k = int(input(\"Enter a number: \"))\n",
    "    minimum = k\n",
    "    maximum = k\n",
    "\n",
    "    # loop for however many numbers n are entered\n",
    "    for i in range(n - 1):\n",
    "        k = int(input(\"Enter a number: \"))\n",
    "        if minimum > k:\n",
    "            minimum = k\n",
    "        if maximum < k:\n",
    "            maximum = k\n",
    "\n",
    "    print()\n",
    "\n",
    "    # print results\n",
    "    print(\"Minimum number: \", minimum)\n",
    "    print(\"Maximum number: \", maximum)\n"
   ]
  },
  {
   "cell_type": "markdown",
   "metadata": {},
   "source": [
    "### 5) Write a Python program to interchange two numbers from an array of 10 numbers using a function"
   ]
  },
  {
   "cell_type": "code",
   "execution_count": 7,
   "metadata": {},
   "outputs": [
    {
     "name": "stdout",
     "output_type": "stream",
     "text": [
      "Enter the position of the first element to be swapped: 7\n",
      "Enter the position of the second element to be swapped: 2\n",
      "\n",
      "The original array is: [13, 56, 34, 78, 67, 46, 10, 51, 94, 32]\n",
      "The duplicate array is:  [13, 10, 34, 78, 67, 46, 56, 51, 94, 32]\n"
     ]
    }
   ],
   "source": [
    "\n",
    "\n",
    "# Your input goes here\n",
    "## default array using numbers from output example\n",
    "## may change numbers \n",
    "arr = [13, 56, 34, 78, 67, 46, 10, 51, 94, 32]\n",
    "\n",
    "## get input for first and second elements\n",
    "fst = int(input(\"Enter the position of the first element to be swapped: \")) - 1\n",
    "scd = int(input(\"Enter the position of the second element to be swapped: \")) - 1\n",
    "\n",
    "print()\n",
    "\n",
    "## output original array for comparison\n",
    "print(\"The original array is:\", arr)\n",
    "\n",
    "tp = arr[fst]\n",
    "arr[fst] = arr[scd]\n",
    "arr[scd] = tp\n",
    "\n",
    "## result\n",
    "print(\"The duplicate array is: \", arr)\n"
   ]
  },
  {
   "cell_type": "code",
   "execution_count": null,
   "metadata": {},
   "outputs": [],
   "source": []
  }
 ],
 "metadata": {
  "kernelspec": {
   "display_name": "Python 3 (ipykernel)",
   "language": "python",
   "name": "python3"
  },
  "language_info": {
   "codemirror_mode": {
    "name": "ipython",
    "version": 3
   },
   "file_extension": ".py",
   "mimetype": "text/x-python",
   "name": "python",
   "nbconvert_exporter": "python",
   "pygments_lexer": "ipython3",
   "version": "3.8.11"
  }
 },
 "nbformat": 4,
 "nbformat_minor": 4
}
