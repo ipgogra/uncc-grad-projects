{
 "cells": [
  {
   "cell_type": "markdown",
   "metadata": {},
   "source": [
    "# Machine Learning Lab-2 (100 points)"
   ]
  },
  {
   "cell_type": "markdown",
   "metadata": {},
   "source": [
    "## 1) Load the Diabetes dataset into a dataframe (50 points)"
   ]
  },
  {
   "cell_type": "markdown",
   "metadata": {},
   "source": [
    "You can find the diabetes dataset at https://scikit-learn.org/stable/modules/generated/sklearn.datasets.load_diabetes.html#sklearn.datasets.load_diabetes.\n",
    "You can use the Boston dataset file as a reference"
   ]
  },
  {
   "cell_type": "markdown",
   "metadata": {},
   "source": [
    "### 1.1) Load the dataset (10 points)"
   ]
  },
  {
   "cell_type": "code",
   "execution_count": 2,
   "metadata": {},
   "outputs": [],
   "source": [
    "from sklearn.datasets import load_diabetes\n",
    "\n",
    "diabetes_data=load_diabetes()\n",
    "##print(diabetes_data.DESCR)"
   ]
  },
  {
   "cell_type": "markdown",
   "metadata": {},
   "source": [
    "### 1.2) Print a description of the data (10 points)"
   ]
  },
  {
   "cell_type": "code",
   "execution_count": 2,
   "metadata": {},
   "outputs": [
    {
     "name": "stdout",
     "output_type": "stream",
     "text": [
      ".. _diabetes_dataset:\n",
      "\n",
      "Diabetes dataset\n",
      "----------------\n",
      "\n",
      "Ten baseline variables, age, sex, body mass index, average blood\n",
      "pressure, and six blood serum measurements were obtained for each of n =\n",
      "442 diabetes patients, as well as the response of interest, a\n",
      "quantitative measure of disease progression one year after baseline.\n",
      "\n",
      "**Data Set Characteristics:**\n",
      "\n",
      "  :Number of Instances: 442\n",
      "\n",
      "  :Number of Attributes: First 10 columns are numeric predictive values\n",
      "\n",
      "  :Target: Column 11 is a quantitative measure of disease progression one year after baseline\n",
      "\n",
      "  :Attribute Information:\n",
      "      - Age\n",
      "      - Sex\n",
      "      - Body mass index\n",
      "      - Average blood pressure\n",
      "      - S1\n",
      "      - S2\n",
      "      - S3\n",
      "      - S4\n",
      "      - S5\n",
      "      - S6\n",
      "\n",
      "Note: Each of these 10 feature variables have been mean centered and scaled by the standard deviation times `n_samples` (i.e. the sum of squares of each column totals 1).\n",
      "\n",
      "Source URL:\n",
      "https://www4.stat.ncsu.edu/~boos/var.select/diabetes.html\n",
      "\n",
      "For more information see:\n",
      "Bradley Efron, Trevor Hastie, Iain Johnstone and Robert Tibshirani (2004) \"Least Angle Regression,\" Annals of Statistics (with discussion), 407-499.\n",
      "(https://web.stanford.edu/~hastie/Papers/LARS/LeastAngle_2002.pdf)\n"
     ]
    }
   ],
   "source": [
    "from sklearn.datasets import load_diabetes\n",
    "\n",
    "diabetes_data=load_diabetes()\n",
    "print(diabetes_data.DESCR)"
   ]
  },
  {
   "cell_type": "markdown",
   "metadata": {},
   "source": [
    "### 1.3) Write a small description of the Diabetes dataset. You can use the output of the previous cell for your reference (10 points)"
   ]
  },
  {
   "cell_type": "code",
   "execution_count": null,
   "metadata": {},
   "outputs": [],
   "source": [
    "##The Diabetes dataset contains baseline data based on health\n",
    "##measurements (e.g., BMI, blood serum, blood pressure, etc), as well\n",
    "##as the age and sex from 442 diabetes patients."
   ]
  },
  {
   "cell_type": "markdown",
   "metadata": {},
   "source": [
    "### 1.4) Create a dataframe and import the diabetes data (input) to the dataframe. Print the dataframe that you have created (10 points)"
   ]
  },
  {
   "cell_type": "code",
   "execution_count": 4,
   "metadata": {},
   "outputs": [
    {
     "name": "stdout",
     "output_type": "stream",
     "text": [
      "          age       sex       bmi        bp        s1        s2        s3  \\\n",
      "0    0.038076  0.050680  0.061696  0.021872 -0.044223 -0.034821 -0.043401   \n",
      "1   -0.001882 -0.044642 -0.051474 -0.026328 -0.008449 -0.019163  0.074412   \n",
      "2    0.085299  0.050680  0.044451 -0.005671 -0.045599 -0.034194 -0.032356   \n",
      "3   -0.089063 -0.044642 -0.011595 -0.036656  0.012191  0.024991 -0.036038   \n",
      "4    0.005383 -0.044642 -0.036385  0.021872  0.003935  0.015596  0.008142   \n",
      "..        ...       ...       ...       ...       ...       ...       ...   \n",
      "437  0.041708  0.050680  0.019662  0.059744 -0.005697 -0.002566 -0.028674   \n",
      "438 -0.005515  0.050680 -0.015906 -0.067642  0.049341  0.079165 -0.028674   \n",
      "439  0.041708  0.050680 -0.015906  0.017282 -0.037344 -0.013840 -0.024993   \n",
      "440 -0.045472 -0.044642  0.039062  0.001215  0.016318  0.015283 -0.028674   \n",
      "441 -0.045472 -0.044642 -0.073030 -0.081414  0.083740  0.027809  0.173816   \n",
      "\n",
      "           s4        s5        s6  \n",
      "0   -0.002592  0.019908 -0.017646  \n",
      "1   -0.039493 -0.068330 -0.092204  \n",
      "2   -0.002592  0.002864 -0.025930  \n",
      "3    0.034309  0.022692 -0.009362  \n",
      "4   -0.002592 -0.031991 -0.046641  \n",
      "..        ...       ...       ...  \n",
      "437 -0.002592  0.031193  0.007207  \n",
      "438  0.034309 -0.018118  0.044485  \n",
      "439 -0.011080 -0.046879  0.015491  \n",
      "440  0.026560  0.044528 -0.025930  \n",
      "441 -0.039493 -0.004220  0.003064  \n",
      "\n",
      "[442 rows x 10 columns]\n"
     ]
    }
   ],
   "source": [
    "import pandas as pd\n",
    "\n",
    "df=pd.DataFrame(data=diabetes_data.data, columns=diabetes_data.feature_names)\n",
    "print(df)"
   ]
  },
  {
   "cell_type": "markdown",
   "metadata": {},
   "source": [
    "### 1.5) Print the target of the diabetes data (10 points)"
   ]
  },
  {
   "cell_type": "code",
   "execution_count": 5,
   "metadata": {},
   "outputs": [
    {
     "name": "stdout",
     "output_type": "stream",
     "text": [
      "[151.  75. 141. 206. 135.  97. 138.  63. 110. 310. 101.  69. 179. 185.\n",
      " 118. 171. 166. 144.  97. 168.  68.  49.  68. 245. 184. 202. 137.  85.\n",
      " 131. 283. 129.  59. 341.  87.  65. 102. 265. 276. 252.  90. 100.  55.\n",
      "  61.  92. 259.  53. 190. 142.  75. 142. 155. 225.  59. 104. 182. 128.\n",
      "  52.  37. 170. 170.  61. 144.  52. 128.  71. 163. 150.  97. 160. 178.\n",
      "  48. 270. 202. 111.  85.  42. 170. 200. 252. 113. 143.  51.  52. 210.\n",
      "  65. 141.  55. 134.  42. 111.  98. 164.  48.  96.  90. 162. 150. 279.\n",
      "  92.  83. 128. 102. 302. 198.  95.  53. 134. 144. 232.  81. 104.  59.\n",
      " 246. 297. 258. 229. 275. 281. 179. 200. 200. 173. 180.  84. 121. 161.\n",
      "  99. 109. 115. 268. 274. 158. 107.  83. 103. 272.  85. 280. 336. 281.\n",
      " 118. 317. 235.  60. 174. 259. 178. 128.  96. 126. 288.  88. 292.  71.\n",
      " 197. 186.  25.  84.  96. 195.  53. 217. 172. 131. 214.  59.  70. 220.\n",
      " 268. 152.  47.  74. 295. 101. 151. 127. 237. 225.  81. 151. 107.  64.\n",
      " 138. 185. 265. 101. 137. 143. 141.  79. 292. 178.  91. 116.  86. 122.\n",
      "  72. 129. 142.  90. 158.  39. 196. 222. 277.  99. 196. 202. 155.  77.\n",
      " 191.  70.  73.  49.  65. 263. 248. 296. 214. 185.  78.  93. 252. 150.\n",
      "  77. 208.  77. 108. 160.  53. 220. 154. 259.  90. 246. 124.  67.  72.\n",
      " 257. 262. 275. 177.  71.  47. 187. 125.  78.  51. 258. 215. 303. 243.\n",
      "  91. 150. 310. 153. 346.  63.  89.  50.  39. 103. 308. 116. 145.  74.\n",
      "  45. 115. 264.  87. 202. 127. 182. 241.  66.  94. 283.  64. 102. 200.\n",
      " 265.  94. 230. 181. 156. 233.  60. 219.  80.  68. 332. 248.  84. 200.\n",
      "  55.  85.  89.  31. 129.  83. 275.  65. 198. 236. 253. 124.  44. 172.\n",
      " 114. 142. 109. 180. 144. 163. 147.  97. 220. 190. 109. 191. 122. 230.\n",
      " 242. 248. 249. 192. 131. 237.  78. 135. 244. 199. 270. 164.  72.  96.\n",
      " 306.  91. 214.  95. 216. 263. 178. 113. 200. 139. 139.  88. 148.  88.\n",
      " 243.  71.  77. 109. 272.  60.  54. 221.  90. 311. 281. 182. 321.  58.\n",
      " 262. 206. 233. 242. 123. 167.  63. 197.  71. 168. 140. 217. 121. 235.\n",
      " 245.  40.  52. 104. 132.  88.  69. 219.  72. 201. 110.  51. 277.  63.\n",
      " 118.  69. 273. 258.  43. 198. 242. 232. 175.  93. 168. 275. 293. 281.\n",
      "  72. 140. 189. 181. 209. 136. 261. 113. 131. 174. 257.  55.  84.  42.\n",
      " 146. 212. 233.  91. 111. 152. 120.  67. 310.  94. 183.  66. 173.  72.\n",
      "  49.  64.  48. 178. 104. 132. 220.  57.]\n"
     ]
    }
   ],
   "source": [
    "print(diabetes_data.target)"
   ]
  },
  {
   "cell_type": "markdown",
   "metadata": {},
   "source": [
    "## 2) Split into Training and Testing data and print the training and testing data (50 points)"
   ]
  },
  {
   "cell_type": "markdown",
   "metadata": {},
   "source": [
    "### 2.1) Split into Training and Testing data with training to testing ratio 80:20 (10 points)"
   ]
  },
  {
   "cell_type": "code",
   "execution_count": 6,
   "metadata": {},
   "outputs": [],
   "source": [
    "from sklearn.model_selection import train_test_split\n",
    "\n",
    "x_train,x_test,y_train,y_test = train_test_split(diabetes_data.data, diabetes_data.target, test_size=0.5)"
   ]
  },
  {
   "cell_type": "markdown",
   "metadata": {},
   "source": [
    "### 2.2) print x_train (10 points)"
   ]
  },
  {
   "cell_type": "code",
   "execution_count": 7,
   "metadata": {},
   "outputs": [
    {
     "name": "stdout",
     "output_type": "stream",
     "text": [
      "[[-0.00914709  0.05068012  0.17055523 ...  0.03430886  0.03365681\n",
      "   0.03205916]\n",
      " [ 0.04897352  0.05068012  0.05846277 ...  0.03430886  0.02200405\n",
      "   0.02791705]\n",
      " [ 0.04897352  0.05068012  0.07462995 ...  0.03430886  0.03365681\n",
      "   0.01963284]\n",
      " ...\n",
      " [ 0.04170844  0.05068012 -0.01482845 ... -0.00185424 -0.01190068\n",
      "   0.00306441]\n",
      " [-0.02367725 -0.04464164  0.04552903 ... -0.03949338 -0.03452372\n",
      "  -0.00936191]\n",
      " [-0.02367725  0.05068012 -0.02560657 ... -0.03949338  0.0011438\n",
      "   0.01963284]]\n"
     ]
    }
   ],
   "source": [
    "print(x_train)"
   ]
  },
  {
   "cell_type": "markdown",
   "metadata": {},
   "source": [
    "### 2.3) Print y_train (10 points)"
   ]
  },
  {
   "cell_type": "code",
   "execution_count": 8,
   "metadata": {},
   "outputs": [
    {
     "name": "stdout",
     "output_type": "stream",
     "text": [
      "[242. 275. 275. 274. 187. 131. 101.  77. 191. 233.  47. 128. 200. 143.\n",
      "  42. 182.  84. 277. 262.  37. 138. 216.  65.  77.  83.  71. 164. 190.\n",
      " 151. 164.  97. 200.  78.  90. 177. 110.  69. 317.  48. 172. 172. 281.\n",
      "  88.  68. 146.  39. 220.  72.  64. 308.  63. 214. 141. 114.  65.  53.\n",
      " 332. 168. 131. 261.  79. 152. 281.  61. 139. 283.  91. 292. 200. 174.\n",
      " 116. 131. 196. 232. 153. 168. 310.  59. 115. 275. 170.  73. 209. 185.\n",
      "  60.  60. 225.  57. 202. 336. 181. 102. 108. 140. 245.  87.  55. 225.\n",
      " 190.  67. 141. 237.  85.  63.  42.  90. 253. 126. 272. 150. 232. 127.\n",
      " 293. 145.  81. 144. 198. 142. 292.  70.  51. 281.  65.  86. 107. 102.\n",
      " 259.  67.  58. 265. 222. 158. 104. 170. 283.  99. 263. 302. 104.  61.\n",
      " 258. 263. 230.  89. 262. 137.  72. 122. 154.  69. 264. 179. 273. 140.\n",
      " 171. 243. 208. 128. 265.  59.  84. 183. 150. 127. 132. 311. 192.  87.\n",
      " 229. 202.  55. 100.  77. 131. 144. 118.  59.  85. 129.  49. 212. 104.\n",
      " 214. 110. 199.  65.  55.  68. 296. 107. 303.  78. 202. 103. 200.  94.\n",
      "  90.  55.  52.  53. 252. 206. 180. 128.  72. 281.  66. 160. 277. 163.\n",
      " 217.  39.  44. 155. 243. 156.  91. 178.  97. 175. 252.]\n"
     ]
    }
   ],
   "source": [
    "print(y_train)"
   ]
  },
  {
   "cell_type": "markdown",
   "metadata": {},
   "source": [
    "### 2.4) Print x_test (10 points)"
   ]
  },
  {
   "cell_type": "code",
   "execution_count": 9,
   "metadata": {},
   "outputs": [
    {
     "name": "stdout",
     "output_type": "stream",
     "text": [
      "[[-0.08906294 -0.04464164 -0.04177375 ... -0.03949338  0.0011438\n",
      "  -0.03007245]\n",
      " [ 0.01628068 -0.04464164  0.02612841 ... -0.03395821 -0.05140054\n",
      "  -0.02593034]\n",
      " [-0.05273755 -0.04464164 -0.01267283 ... -0.00259226 -0.02712865\n",
      "  -0.05078298]\n",
      " ...\n",
      " [-0.03094232  0.05068012  0.02828403 ... -0.04798064 -0.03075121\n",
      "   0.01549073]\n",
      " [ 0.06713621  0.05068012 -0.04177375 ... -0.03949338 -0.0594727\n",
      "  -0.02178823]\n",
      " [-0.05273755 -0.04464164  0.05415152 ... -0.03949338 -0.07408887\n",
      "  -0.05906719]]\n"
     ]
    }
   ],
   "source": [
    "print(x_test)"
   ]
  },
  {
   "cell_type": "markdown",
   "metadata": {},
   "source": [
    "### 2.5) Print y_test (10 points)"
   ]
  },
  {
   "cell_type": "code",
   "execution_count": 10,
   "metadata": {},
   "outputs": [
    {
     "name": "stdout",
     "output_type": "stream",
     "text": [
      "[185.  52. 160.  45. 142. 259.  95.  53. 219. 275.  96.  91.  97. 167.\n",
      " 341. 279. 122.  48.  68.  48. 215. 129. 144. 144. 132. 220. 180.  25.\n",
      " 101. 111.  83. 124. 178. 244. 162.  52. 143.  66. 235. 141. 123. 220.\n",
      " 220. 189. 113.  97. 134.  84. 113.  75.  85. 202. 181. 241. 174.  54.\n",
      " 248.  72. 139. 310. 115.  98. 214. 109. 248. 116.  96. 150. 179. 257.\n",
      " 137. 136.  63. 210. 135. 109. 310.  90. 184. 217. 178. 288. 178. 178.\n",
      "  88. 230.  43. 111. 134.  88.  81. 346. 272.  71. 206. 182. 150. 173.\n",
      " 246. 270. 236. 198. 265. 152. 242. 235. 109. 191. 270.  74.  74.  51.\n",
      " 113.  59.  69.  49. 186. 128. 182. 121.  47. 118. 242. 268.  93.  85.\n",
      " 111.  94. 147. 151.  95. 103.  40. 151. 168. 201.  64.  64. 142.  90.\n",
      " 166.  93. 252. 280.  71.  42.  50.  80. 196.  96. 258. 257.  88.  77.\n",
      "  31.  71.  92.  96. 195. 295.  72. 248. 259.  99. 173. 219.  84. 135.\n",
      "  60.  92.  72. 124. 306. 163. 221. 125. 161.  83. 118.  70. 129. 268.\n",
      "  89. 245. 200.  49.  91.  71.  52. 101. 138.  78. 121. 109. 258.  94.\n",
      " 197.  51. 198. 104. 158. 237. 249.  53. 197. 148. 276. 102. 233. 155.\n",
      "  63. 297. 185. 233. 120. 200. 246. 321. 170.  75. 142.]\n"
     ]
    }
   ],
   "source": [
    "print(y_test)"
   ]
  }
 ],
 "metadata": {
  "kernelspec": {
   "display_name": "Python 3 (ipykernel)",
   "language": "python",
   "name": "python3"
  },
  "language_info": {
   "codemirror_mode": {
    "name": "ipython",
    "version": 3
   },
   "file_extension": ".py",
   "mimetype": "text/x-python",
   "name": "python",
   "nbconvert_exporter": "python",
   "pygments_lexer": "ipython3",
   "version": "3.8.11"
  }
 },
 "nbformat": 4,
 "nbformat_minor": 4
}
