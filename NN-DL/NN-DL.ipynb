{
 "cells": [
  {
   "cell_type": "code",
   "execution_count": 2,
   "metadata": {},
   "outputs": [],
   "source": [
    "## load data\n",
    "## using \"Pima Indians Diabetes Data\"\n",
    "## https://www.kaggle.com/uciml/pima-indians-diabetes-database\n",
    "## from UCI ML dataset\n",
    "\n",
    "import pandas as pd\n",
    "data = pd.read_csv('diabetes.csv')\n",
    "x = data.drop(\"Outcome\", axis = 1)\n",
    "y = data[\"Outcome\"]"
   ]
  },
  {
   "cell_type": "code",
   "execution_count": 3,
   "metadata": {},
   "outputs": [
    {
     "ename": "ModuleNotFoundError",
     "evalue": "No module named 'keras'",
     "output_type": "error",
     "traceback": [
      "\u001b[0;31m---------------------------------------------------------------------------\u001b[0m",
      "\u001b[0;31mModuleNotFoundError\u001b[0m                       Traceback (most recent call last)",
      "Input \u001b[0;32mIn [3]\u001b[0m, in \u001b[0;36m<module>\u001b[0;34m\u001b[0m\n\u001b[1;32m      1\u001b[0m \u001b[38;5;66;03m## define model\u001b[39;00m\n\u001b[1;32m      2\u001b[0m \u001b[38;5;66;03m## keras model \u001b[39;00m\n\u001b[0;32m----> 4\u001b[0m \u001b[38;5;28;01mfrom\u001b[39;00m \u001b[38;5;21;01mkeras\u001b[39;00m\u001b[38;5;21;01m.\u001b[39;00m\u001b[38;5;21;01mmodels\u001b[39;00m \u001b[38;5;28;01mimport\u001b[39;00m Sequential\n\u001b[1;32m      5\u001b[0m \u001b[38;5;28;01mfrom\u001b[39;00m \u001b[38;5;21;01mkeras\u001b[39;00m\u001b[38;5;21;01m.\u001b[39;00m\u001b[38;5;21;01mlayers\u001b[39;00m \u001b[38;5;28;01mimport\u001b[39;00m Dense\n\u001b[1;32m      6\u001b[0m model \u001b[38;5;241m=\u001b[39m Sequential()\n",
      "\u001b[0;31mModuleNotFoundError\u001b[0m: No module named 'keras'"
     ]
    }
   ],
   "source": [
    "## define model\n",
    "## keras model \n",
    "\n",
    "from keras.models import Sequential\n",
    "from keras.layers import Dense\n",
    "\n",
    "model = Sequential()\n",
    "model.add(Dense(12, input_dim = 8, activation = \"relu\"))\n",
    "model.add(Dense(12, activation = \"relu\"))\n",
    "model.add(Dense(1, activation = \"sigmoid\"))"
   ]
  },
  {
   "cell_type": "code",
   "execution_count": null,
   "metadata": {},
   "outputs": [],
   "source": [
    "## compile model\n",
    "## specify parameters to better evaluate model\n",
    "## and find best weights to map inputs to outputs\n",
    "\n",
    "model.compile(loss = \"binary_crossentropy\", optimizer = \"adam\", metrics = [\"accuracy\"])"
   ]
  },
  {
   "cell_type": "code",
   "execution_count": null,
   "metadata": {},
   "outputs": [],
   "source": [
    "## training/fitting the model\n",
    "## fit the data to model\n",
    "## train NN\n",
    "## define no. of epochs & batch size\n",
    "## Epoch – one single pass through all the rows in the training dataset\n",
    "## Batch size – # of samples considered by the model before updating the weights\n",
    "\n",
    "model.fit(x,y, epochs = 150, batch_size = 10)"
   ]
  },
  {
   "cell_type": "code",
   "execution_count": null,
   "metadata": {},
   "outputs": [],
   "source": [
    "## evaluate the model\n",
    "_, accuracy = model.evaluate(x, y)\n",
    "print(\"Model accuracy: %.2f\" % (accuracy * 100))"
   ]
  },
  {
   "cell_type": "code",
   "execution_count": null,
   "metadata": {},
   "outputs": [],
   "source": [
    "## making predictions\n",
    "predictions = model.predict(x)\n",
    "print([round(x[0]) for x in predictions])"
   ]
  },
  {
   "cell_type": "code",
   "execution_count": null,
   "metadata": {},
   "outputs": [],
   "source": [
    "## below is the same code from above, just put together to compile better\n",
    "## define model\n",
    "model = Sequential()  \n",
    "model.add(Dense(12, input_dim = 8, activation = \"relu\"))\n",
    "model.add(Dense(8, activation = \"relu\"))\n",
    "model.add(Dense(1, activation = \"sigmoid\"))\n",
    "## compile model\n",
    "model.compile(loss = \"binary_crossentropy\", optimizer = \"adam\", metrics = [\"accuracy\"]) \n",
    "## training\n",
    "model.fit(x,y, epochs = 150, batch_size = 10)\n",
    "## testing\n",
    "_, accuracy = model.evaluate(x,y)\n",
    "print(\"Model accuracy: %.2f\" % (accuracy*100))\n",
    "## make predictions\n",
    "predictions = model.predict(x)     \n",
    "## round the prediction\n",
    "rounded = [round(x[0]) for x in predictions]"
   ]
  }
 ],
 "metadata": {
  "interpreter": {
   "hash": "aee8b7b246df8f9039afb4144a1f6fd8d2ca17a180786b69acc140d282b71a49"
  },
  "kernelspec": {
   "display_name": "Python 3.8.1 64-bit",
   "language": "python",
   "name": "python3"
  },
  "language_info": {
   "codemirror_mode": {
    "name": "ipython",
    "version": 3
   },
   "file_extension": ".py",
   "mimetype": "text/x-python",
   "name": "python",
   "nbconvert_exporter": "python",
   "pygments_lexer": "ipython3",
   "version": "3.8.1"
  },
  "orig_nbformat": 4
 },
 "nbformat": 4,
 "nbformat_minor": 2
}
